{
  "nbformat": 4,
  "nbformat_minor": 0,
  "metadata": {
    "colab": {
      "provenance": [],
      "authorship_tag": "ABX9TyM/XS3Ihn2BmNY5qiQfugVd",
      "include_colab_link": true
    },
    "kernelspec": {
      "name": "python3",
      "display_name": "Python 3"
    },
    "language_info": {
      "name": "python"
    }
  },
  "cells": [
    {
      "cell_type": "markdown",
      "metadata": {
        "id": "view-in-github",
        "colab_type": "text"
      },
      "source": [
        "<a href=\"https://colab.research.google.com/github/mouryamariasagar/MLDA-/blob/main/Data_Pre_processing23.ipynb\" target=\"_parent\"><img src=\"https://colab.research.google.com/assets/colab-badge.svg\" alt=\"Open In Colab\"/></a>"
      ]
    },
    {
      "cell_type": "code",
      "execution_count": 2,
      "metadata": {
        "colab": {
          "base_uri": "https://localhost:8080/"
        },
        "id": "yq_MyfACWalV",
        "outputId": "00b77ec0-196d-4c89-8fc4-a0e28c5b82e3"
      },
      "outputs": [
        {
          "output_type": "stream",
          "name": "stdout",
          "text": [
            "Original Data:\n",
            "   sepal length (cm)  sepal width (cm)  petal length (cm)  petal width (cm)  \\\n",
            "0                5.1               3.5                1.4               0.2   \n",
            "1                4.9               3.0                1.4               0.2   \n",
            "2                4.7               3.2                1.3               0.2   \n",
            "3                4.6               3.1                1.5               0.2   \n",
            "4                5.0               3.6                1.4               0.2   \n",
            "\n",
            "   target  \n",
            "0  setosa  \n",
            "1  setosa  \n",
            "2  setosa  \n",
            "3  setosa  \n",
            "4  setosa  \n",
            "\n",
            "Processed Training Features:\n",
            "    num__sepal length (cm)  num__sepal width (cm)  num__petal length (cm)  \\\n",
            "22               -1.506521               1.249201               -1.567576   \n",
            "15               -0.173674               3.090775               -1.283389   \n",
            "65                1.038005               0.098217                0.364896   \n",
            "11               -1.264185               0.788808               -1.226552   \n",
            "42               -1.748856               0.328414               -1.397064   \n",
            "\n",
            "    num__petal width (cm)  SepalArea  \n",
            "22              -1.315444      16.56  \n",
            "15              -1.052180      25.08  \n",
            "65               0.264142      20.77  \n",
            "11              -1.315444      16.32  \n",
            "42              -1.315444      14.08  \n",
            "\n",
            "Processed Training Labels:\n",
            "    cat__target_setosa  cat__target_versicolor  cat__target_virginica\n",
            "22                 1.0                     0.0                    0.0\n",
            "15                 1.0                     0.0                    0.0\n",
            "65                 0.0                     1.0                    0.0\n",
            "11                 1.0                     0.0                    0.0\n",
            "42                 1.0                     0.0                    0.0\n"
          ]
        }
      ],
      "source": [
        "import pandas as pd\n",
        "import numpy as np\n",
        "from sklearn.model_selection import train_test_split\n",
        "from sklearn.preprocessing import StandardScaler, OneHotEncoder\n",
        "from sklearn.compose import ColumnTransformer\n",
        "from sklearn.pipeline import Pipeline\n",
        "from sklearn.impute import SimpleImputer\n",
        "from sklearn.datasets import load_iris # Import load_iris\n",
        "# Load the iris dataset into a pandas DataFrame\n",
        "iris = load_iris()\n",
        "df_iris = pd.DataFrame(data=np.c_[iris['data'], iris['target']],\n",
        "                       columns=iris['feature_names'] + ['target'])\n",
        "df_iris['target'] = df_iris['target'].astype(int) # Ensure target is integer type\n",
        "df_iris['target'] = df_iris['target'].map({i: name for i, name in enumerate(iris['target_names'])}) # Map target to names\n",
        "\n",
        "data = df_iris\n",
        "print(\"Original Data:\")\n",
        "print(data.head())\n",
        "if 'Id' in data.columns:\n",
        "    data = data.drop('Id', axis=1)\n",
        "num_features = ['sepal length (cm)', 'sepal width (cm)', 'petal length (cm)', 'petal width (cm)'] # Use correct feature names\n",
        "cat_features = ['target'] # Use the correct target column name\n",
        "num_transformer = Pipeline(steps=[\n",
        "    ('imputer', SimpleImputer(strategy='mean')),\n",
        "    ('scaler', StandardScaler())\n",
        "])\n",
        "cat_transformer = Pipeline(steps=[\n",
        "    ('imputer', SimpleImputer(strategy='most_frequent')),\n",
        "    ('onehot', OneHotEncoder(handle_unknown='ignore', sparse_output=False))\n",
        "])\n",
        "preprocessor = ColumnTransformer(\n",
        "    transformers=[\n",
        "        ('num', num_transformer, num_features)\n",
        "    ]\n",
        ")\n",
        "preprocessor.set_output(transform='pandas')\n",
        "X = preprocessor.fit_transform(data[num_features]) # Fit only on numerical features\n",
        "output_preprocessor = ColumnTransformer(\n",
        "    transformers=[\n",
        "        ('cat', cat_transformer, cat_features)\n",
        "    ]\n",
        ")\n",
        "output_preprocessor.set_output(transform='pandas')\n",
        "y = output_preprocessor.fit_transform(data[cat_features]) # Fit only on categorical features\n",
        "X['SepalArea'] = data['sepal length (cm)'] * data['sepal width (cm)'] # Use correct feature names\n",
        "X_train, X_test, y_train, y_test = train_test_split(\n",
        "    X, y, test_size=0.2, random_state=42\n",
        ")\n",
        "print(\"\\nProcessed Training Features:\")\n",
        "print(X_train.head())\n",
        "\n",
        "print(\"\\nProcessed Training Labels:\")\n",
        "print(y_train.head())"
      ]
    }
  ]
}