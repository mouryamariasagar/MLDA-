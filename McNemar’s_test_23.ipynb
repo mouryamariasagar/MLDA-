{
  "nbformat": 4,
  "nbformat_minor": 0,
  "metadata": {
    "colab": {
      "provenance": [],
      "authorship_tag": "ABX9TyONFaz2q/gWzs6FInNF0cyE",
      "include_colab_link": true
    },
    "kernelspec": {
      "name": "python3",
      "display_name": "Python 3"
    },
    "language_info": {
      "name": "python"
    }
  },
  "cells": [
    {
      "cell_type": "markdown",
      "metadata": {
        "id": "view-in-github",
        "colab_type": "text"
      },
      "source": [
        "<a href=\"https://colab.research.google.com/github/mouryamariasagar/MLDA-/blob/main/McNemar%E2%80%99s_test_23.ipynb\" target=\"_parent\"><img src=\"https://colab.research.google.com/assets/colab-badge.svg\" alt=\"Open In Colab\"/></a>"
      ]
    },
    {
      "cell_type": "code",
      "execution_count": 1,
      "metadata": {
        "colab": {
          "base_uri": "https://localhost:8080/"
        },
        "id": "8WDX_yYbicO0",
        "outputId": "6fee0fe6-13e6-4706-ae1d-96aa7e35b80a"
      },
      "outputs": [
        {
          "output_type": "stream",
          "name": "stdout",
          "text": [
            "Decision Tree Accuracy: 0.9333333333333333\n",
            "Logistic Regression Accuracy: 0.9666666666666667\n",
            "Contingency Table (McNemar): [[28, 0], [1, 1]]\n",
            "McNemar’s Test Statistic: 0.0\n",
            "McNemar’s Test p-value: 1.0\n",
            "No significant difference between models (fail to reject H0)\n"
          ]
        }
      ],
      "source": [
        "import pandas as pd\n",
        "from sklearn.datasets import load_iris\n",
        "from sklearn.model_selection import train_test_split\n",
        "from sklearn.tree import DecisionTreeClassifier\n",
        "from sklearn.linear_model import LogisticRegression\n",
        "from sklearn.metrics import accuracy_score\n",
        "from statsmodels.stats.contingency_tables import mcnemar\n",
        "\n",
        "iris = load_iris()\n",
        "data = pd.DataFrame(iris.data, columns=iris.feature_names)\n",
        "data[\"species\"] = iris.target\n",
        "x = data.drop(\"species\", axis=1)\n",
        "y = data[\"species\"]\n",
        "x_train, x_test, y_train, y_test = train_test_split(x, y, test_size=0.2, random_state=2)\n",
        "\n",
        "dt = DecisionTreeClassifier(criterion=\"entropy\")\n",
        "dt.fit(x_train, y_train)\n",
        "y_dt_pred = dt.predict(x_test)\n",
        "lr = LogisticRegression(max_iter=1000)\n",
        "lr.fit(x_train, y_train)\n",
        "y_lr_pred = lr.predict(x_test)\n",
        "\n",
        "print(\"Decision Tree Accuracy:\", accuracy_score(y_test, y_dt_pred))\n",
        "print(\"Logistic Regression Accuracy:\", accuracy_score(y_test, y_lr_pred))\n",
        "\n",
        "table = [[0, 0], [0, 0]]\n",
        "for i in range(len(y_test)):\n",
        "    if y_test.iloc[i] == y_dt_pred[i] and y_test.iloc[i] != y_lr_pred[i]:\n",
        "        table[0][1] += 1\n",
        "    elif y_test.iloc[i] != y_dt_pred[i] and y_test.iloc[i] == y_lr_pred[i]:\n",
        "        table[1][0] += 1\n",
        "\n",
        "for i in range(len(y_test)):\n",
        "    if y_test.iloc[i] == y_dt_pred[i] and y_test.iloc[i] == y_lr_pred[i]:\n",
        "        table[0][0] += 1\n",
        "    elif y_test.iloc[i] != y_dt_pred[i] and y_test.iloc[i] != y_lr_pred[i]:\n",
        "        table[1][1] += 1\n",
        "\n",
        "print(\"Contingency Table (McNemar):\", table)\n",
        "\n",
        "result = mcnemar(table, exact=True)\n",
        "print(\"McNemar’s Test Statistic:\", result.statistic)\n",
        "print(\"McNemar’s Test p-value:\", result.pvalue)\n",
        "\n",
        "if result.pvalue < 0.05:\n",
        "    print(\"Significant difference between models (reject H0)\")\n",
        "else:\n",
        "    print(\"No significant difference between models (fail to reject H0)\")\n"
      ]
    }
  ]
}